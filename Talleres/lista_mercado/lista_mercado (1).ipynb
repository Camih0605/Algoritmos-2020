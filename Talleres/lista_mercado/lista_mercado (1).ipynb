{
  "nbformat": 4,
  "nbformat_minor": 0,
  "metadata": {
    "colab": {
      "name": "lista_mercado.ipynb",
      "provenance": []
    },
    "kernelspec": {
      "name": "python3",
      "display_name": "Python 3"
    }
  },
  "cells": [
    {
      "cell_type": "code",
      "metadata": {
        "id": "0vka-7rfiHmz",
        "colab_type": "code",
        "colab": {}
      },
      "source": [
        "import pandas as pd"
      ],
      "execution_count": 2,
      "outputs": []
    },
    {
      "cell_type": "code",
      "metadata": {
        "id": "3J-wqiV2jeC1",
        "colab_type": "code",
        "colab": {
          "base_uri": "https://localhost:8080/",
          "height": 202
        },
        "outputId": "4963fc78-1b88-4724-cb44-be64067fb768"
      },
      "source": [
        "business_results =pd.Series({'Arroz':4200,\n",
        "                  'Papa':4800,\n",
        "                  'Tomate' :5400,\n",
        "                  'Salsa':2200,\n",
        "                  'Leche' :2000,\n",
        "                  'Huevo':300,\n",
        "                  'Cebolla':400,\n",
        "                  'Manzana':600,\n",
        "                  'Pan': 3000,\n",
        "                  'Arepa':800})\n",
        "print(business_results)\n"
      ],
      "execution_count": 6,
      "outputs": [
        {
          "output_type": "stream",
          "text": [
            "Arroz      4200\n",
            "Papa       4800\n",
            "Tomate     5400\n",
            "Salsa      2200\n",
            "Leche      2000\n",
            "Huevo       300\n",
            "Cebolla     400\n",
            "Manzana     600\n",
            "Pan        3000\n",
            "Arepa       800\n",
            "dtype: int64\n"
          ],
          "name": "stdout"
        }
      ]
    },
    {
      "cell_type": "code",
      "metadata": {
        "id": "P1gamXckkXbq",
        "colab_type": "code",
        "colab": {
          "base_uri": "https://localhost:8080/",
          "height": 195
        },
        "outputId": "6394967f-6909-4d7c-a476-ef564289f9c7"
      },
      "source": [
        "business_results_frame= pd.DataFrame({'Enero':[2000,1000,1200,8000,300],\n",
        "                  'Febrero':[2300,1200,1300,600,9000],\n",
        "                  'Marzo':[2400,1600,1400,4000,400],\n",
        "                  'Abril':[1000,600,600,5000,3500],\n",
        "                  'Mayo':[1000,4000,5000,6700,3000]},index=['Arroz','Papa','Tomate','Salsa','Leche'])\n",
        "business_results_frame"
      ],
      "execution_count": 10,
      "outputs": [
        {
          "output_type": "execute_result",
          "data": {
            "text/html": [
              "<div>\n",
              "<style scoped>\n",
              "    .dataframe tbody tr th:only-of-type {\n",
              "        vertical-align: middle;\n",
              "    }\n",
              "\n",
              "    .dataframe tbody tr th {\n",
              "        vertical-align: top;\n",
              "    }\n",
              "\n",
              "    .dataframe thead th {\n",
              "        text-align: right;\n",
              "    }\n",
              "</style>\n",
              "<table border=\"1\" class=\"dataframe\">\n",
              "  <thead>\n",
              "    <tr style=\"text-align: right;\">\n",
              "      <th></th>\n",
              "      <th>Enero</th>\n",
              "      <th>Febrero</th>\n",
              "      <th>Marzo</th>\n",
              "      <th>Abril</th>\n",
              "      <th>Mayo</th>\n",
              "    </tr>\n",
              "  </thead>\n",
              "  <tbody>\n",
              "    <tr>\n",
              "      <th>Arroz</th>\n",
              "      <td>2000</td>\n",
              "      <td>2300</td>\n",
              "      <td>2400</td>\n",
              "      <td>1000</td>\n",
              "      <td>1000</td>\n",
              "    </tr>\n",
              "    <tr>\n",
              "      <th>Papa</th>\n",
              "      <td>1000</td>\n",
              "      <td>1200</td>\n",
              "      <td>1600</td>\n",
              "      <td>600</td>\n",
              "      <td>4000</td>\n",
              "    </tr>\n",
              "    <tr>\n",
              "      <th>Tomate</th>\n",
              "      <td>1200</td>\n",
              "      <td>1300</td>\n",
              "      <td>1400</td>\n",
              "      <td>600</td>\n",
              "      <td>5000</td>\n",
              "    </tr>\n",
              "    <tr>\n",
              "      <th>Salsa</th>\n",
              "      <td>8000</td>\n",
              "      <td>600</td>\n",
              "      <td>4000</td>\n",
              "      <td>5000</td>\n",
              "      <td>6700</td>\n",
              "    </tr>\n",
              "    <tr>\n",
              "      <th>Leche</th>\n",
              "      <td>300</td>\n",
              "      <td>9000</td>\n",
              "      <td>400</td>\n",
              "      <td>3500</td>\n",
              "      <td>3000</td>\n",
              "    </tr>\n",
              "  </tbody>\n",
              "</table>\n",
              "</div>"
            ],
            "text/plain": [
              "        Enero  Febrero  Marzo  Abril  Mayo\n",
              "Arroz    2000     2300   2400   1000  1000\n",
              "Papa     1000     1200   1600    600  4000\n",
              "Tomate   1200     1300   1400    600  5000\n",
              "Salsa    8000      600   4000   5000  6700\n",
              "Leche     300     9000    400   3500  3000"
            ]
          },
          "metadata": {
            "tags": []
          },
          "execution_count": 10
        }
      ]
    },
    {
      "cell_type": "code",
      "metadata": {
        "id": "A5ZyWLYOyvdU",
        "colab_type": "code",
        "colab": {}
      },
      "source": [
        ""
      ],
      "execution_count": null,
      "outputs": []
    },
    {
      "cell_type": "code",
      "metadata": {
        "id": "dTf5xt8WpRV2",
        "colab_type": "code",
        "colab": {
          "base_uri": "https://localhost:8080/",
          "height": 195
        },
        "outputId": "dbd46b61-0208-4f79-f4e5-9f8ee6520e07"
      },
      "source": [
        "#Dictionary like\n",
        "business_results_frame[['Febrero','Marzo']]"
      ],
      "execution_count": 11,
      "outputs": [
        {
          "output_type": "execute_result",
          "data": {
            "text/html": [
              "<div>\n",
              "<style scoped>\n",
              "    .dataframe tbody tr th:only-of-type {\n",
              "        vertical-align: middle;\n",
              "    }\n",
              "\n",
              "    .dataframe tbody tr th {\n",
              "        vertical-align: top;\n",
              "    }\n",
              "\n",
              "    .dataframe thead th {\n",
              "        text-align: right;\n",
              "    }\n",
              "</style>\n",
              "<table border=\"1\" class=\"dataframe\">\n",
              "  <thead>\n",
              "    <tr style=\"text-align: right;\">\n",
              "      <th></th>\n",
              "      <th>Febrero</th>\n",
              "      <th>Marzo</th>\n",
              "    </tr>\n",
              "  </thead>\n",
              "  <tbody>\n",
              "    <tr>\n",
              "      <th>Arroz</th>\n",
              "      <td>2300</td>\n",
              "      <td>2400</td>\n",
              "    </tr>\n",
              "    <tr>\n",
              "      <th>Papa</th>\n",
              "      <td>1200</td>\n",
              "      <td>1600</td>\n",
              "    </tr>\n",
              "    <tr>\n",
              "      <th>Tomate</th>\n",
              "      <td>1300</td>\n",
              "      <td>1400</td>\n",
              "    </tr>\n",
              "    <tr>\n",
              "      <th>Salsa</th>\n",
              "      <td>600</td>\n",
              "      <td>4000</td>\n",
              "    </tr>\n",
              "    <tr>\n",
              "      <th>Leche</th>\n",
              "      <td>9000</td>\n",
              "      <td>400</td>\n",
              "    </tr>\n",
              "  </tbody>\n",
              "</table>\n",
              "</div>"
            ],
            "text/plain": [
              "        Febrero  Marzo\n",
              "Arroz      2300   2400\n",
              "Papa       1200   1600\n",
              "Tomate     1300   1400\n",
              "Salsa       600   4000\n",
              "Leche      9000    400"
            ]
          },
          "metadata": {
            "tags": []
          },
          "execution_count": 11
        }
      ]
    },
    {
      "cell_type": "code",
      "metadata": {
        "id": "Z43QN3S_npb8",
        "colab_type": "code",
        "colab": {
          "base_uri": "https://localhost:8080/",
          "height": 118
        },
        "outputId": "5bc26046-9b0a-4fe6-9a1d-2697350fae43"
      },
      "source": [
        "#Dictionary like\n",
        "business_results_frame['Abril']"
      ],
      "execution_count": 13,
      "outputs": [
        {
          "output_type": "execute_result",
          "data": {
            "text/plain": [
              "Arroz     1000\n",
              "Papa       600\n",
              "Tomate     600\n",
              "Salsa     5000\n",
              "Leche     3500\n",
              "Name: Abril, dtype: int64"
            ]
          },
          "metadata": {
            "tags": []
          },
          "execution_count": 13
        }
      ]
    }
  ]
}