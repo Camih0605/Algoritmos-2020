{
  "nbformat": 4,
  "nbformat_minor": 0,
  "metadata": {
    "colab": {
      "name": "Tallerfuncional.ipynb",
      "provenance": []
    },
    "kernelspec": {
      "name": "python3",
      "display_name": "Python 3"
    }
  },
  "cells": [
    {
      "cell_type": "code",
      "metadata": {
        "id": "Jo0dv6a-me4b",
        "colab_type": "code",
        "colab": {
          "base_uri": "https://localhost:8080/",
          "height": 67
        },
        "outputId": "7ff0bf9a-c7d9-4a38-efe5-79660de3c241"
      },
      "source": [
        "from functools  import reduce\n",
        "lista = [2,4]\n",
        "acumulador = 0\n",
        "for elemento in lista :\n",
        "  acumulador **= elemento\n",
        "print(acumulador/len(lista))\n",
        "\n",
        "Exponente = lambda acumulador =0 , elemento =0 : acumulador ** elemento\n",
        "resultado = reduce (Exponente, lista)\n",
        "print (resultado)\n",
        "\n",
        "print (reduce (\n",
        "    lambda acumulador =0 , elemento =0 : acumulador ** elemento,\n",
        "    lista))"
      ],
      "execution_count": 6,
      "outputs": [
        {
          "output_type": "stream",
          "text": [
            "0.0\n",
            "16\n",
            "16\n"
          ],
          "name": "stdout"
        }
      ]
    },
    {
      "cell_type": "code",
      "metadata": {
        "id": "OaeBoI5wM53U",
        "colab_type": "code",
        "colab": {
          "base_uri": "https://localhost:8080/",
          "height": 34
        },
        "outputId": "d918830e-3a45-4c5f-851c-31981b2128d1"
      },
      "source": [
        "#FUNCIONES LAMBDA\n",
        "resultado = lambda numero= 0, exponente= 0: numero**exponente\n",
        "print(resultado(2,4))"
      ],
      "execution_count": 7,
      "outputs": [
        {
          "output_type": "stream",
          "text": [
            "16\n"
          ],
          "name": "stdout"
        }
      ]
    },
    {
      "cell_type": "code",
      "metadata": {
        "id": "zrQ4ApQnNgrx",
        "colab_type": "code",
        "colab": {
          "base_uri": "https://localhost:8080/",
          "height": 67
        },
        "outputId": "27b71c2b-3cbd-40f7-d1ed-aa3dd81bf530"
      },
      "source": [
        " resultado = lambda palabra, N: print(palabra*N)\n",
        " palabra=str(input(\"Escribe una palabra: \"))\n",
        " n_veces= int(input(\"Cuantas veces deseas imprimir la palabra: \"))\n",
        " print (resultado)"
      ],
      "execution_count": 9,
      "outputs": [
        {
          "output_type": "stream",
          "text": [
            "Escribe una palabra: gol\n",
            "Cuantas veces deseas imprimir la palabra: 4\n",
            "<function <lambda> at 0x7f64098c3950>\n"
          ],
          "name": "stdout"
        }
      ]
    }
  ]
}