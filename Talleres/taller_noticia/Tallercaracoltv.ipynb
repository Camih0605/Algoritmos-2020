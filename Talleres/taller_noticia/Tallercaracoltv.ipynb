{
  "nbformat": 4,
  "nbformat_minor": 0,
  "metadata": {
    "colab": {
      "name": "Tallercaracoltv.ipynb",
      "provenance": []
    },
    "kernelspec": {
      "name": "python3",
      "display_name": "Python 3"
    }
  },
  "cells": [
    {
      "cell_type": "code",
      "metadata": {
        "id": "ZPurw1SJtaK5",
        "colab_type": "code",
        "colab": {}
      },
      "source": [
        "import requests\n",
        "\n",
        "response = requests.get (\"https://noticias.caracoltv.com/\")\n",
        "print (response)\n",
        "print (response.text)"
      ],
      "execution_count": null,
      "outputs": []
    },
    {
      "cell_type": "code",
      "metadata": {
        "id": "gV0ocIzey6B3",
        "colab_type": "code",
        "colab": {}
      },
      "source": [
        "import bs4\n",
        "completo = bs4.BeautifulSoup(response.text, 'html.parser')\n",
        "noticias = completo.select(\".PromoB-title a\")\n",
        "print  (noticias)\n"
      ],
      "execution_count": null,
      "outputs": []
    },
    {
      "cell_type": "code",
      "metadata": {
        "id": "9xuatooGF40C",
        "colab_type": "code",
        "colab": {}
      },
      "source": [
        "titulos =[]\n",
        "links =[]\n",
        "for noticia in noticias:\n",
        "  titulos.append(noticia.text)\n",
        "  links.append(noticia['href'])\n",
        "  print(titulos)\n",
        "  print (links)\n",
        "  dictNoticias = {}\n",
        "  dictNoticias['Noticias '] = titulos\n",
        "  dictNoticias['Links'] = links"
      ],
      "execution_count": null,
      "outputs": []
    },
    {
      "cell_type": "code",
      "metadata": {
        "id": "bxEms5jhF8lx",
        "colab_type": "code",
        "colab": {}
      },
      "source": [
        "import pandas as pd\n",
        "noticiasCaracol = pd.DataFrame(dictNoticias)\n",
        "noticiasCaracol\n",
        "\n",
        "noticiasCaracol.to_csv('noticias.csv', index=False)"
      ],
      "execution_count": null,
      "outputs": []
    }
  ]
}