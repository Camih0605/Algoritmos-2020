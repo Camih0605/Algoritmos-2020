{
  "nbformat": 4,
  "nbformat_minor": 0,
  "metadata": {
    "colab": {
      "name": "Parcial.ipynb",
      "provenance": []
    },
    "kernelspec": {
      "name": "python3",
      "display_name": "Python 3"
    }
  },
  "cells": [
    {
      "cell_type": "code",
      "metadata": {
        "id": "pe_zy4kSgpmf",
        "colab_type": "code",
        "colab": {
          "base_uri": "https://localhost:8080/",
          "height": 34
        },
        "outputId": "057394a8-5230-4060-fd10-f05e353c520d"
      },
      "source": [
        "import requests\n",
        "url = 'https://listado.mercadolibre.com.co/televisores#D[A:televisores]'\n",
        "response = requests.get (url)\n",
        "print (response)"
      ],
      "execution_count": 1,
      "outputs": [
        {
          "output_type": "stream",
          "text": [
            "<Response [200]>\n"
          ],
          "name": "stdout"
        }
      ]
    },
    {
      "cell_type": "code",
      "metadata": {
        "id": "5e7N-9qGhlpn",
        "colab_type": "code",
        "colab": {
          "base_uri": "https://localhost:8080/",
          "height": 121
        },
        "outputId": "6f43df26-2e67-4535-bc2e-d1955d76bda2"
      },
      "source": [
        "import bs4\n",
        "parseo = bs4.BeautifulSoup (response.text, 'html.parser')\n",
        "getDataSelect = lambda clase : parseo.select(clase)\n",
        "dataTitle = parseo.select ('.ui-search-item__title')\n",
        "dataPrice = getDataSelect('.price-tag-fraction')\n",
        "print (dataTitle)\n",
        "print (dataPrice)\n",
        "nombreTelevisores2 = []\n",
        "nombreTelevisores = []\n",
        "funcionExtraerTexto = lambda elemento : elemento.text\n",
        "funcionListaDatos = lambda funcion, data :  list (map (funcion,data))\n",
        "nombreTelevisores = funcionListaDatos(funcionExtraerTexto, dataTitle)\n",
        "for elemento in dataTitle :\n",
        "  nombreTelevisores2.append (elemento.text)\n",
        "\n",
        "print (nombreTelevisores)\n",
        "print (nombreTelevisores)\n",
        "listaPrecios = funcionListaDatos(funcionExtraerTexto, dataPrice)\n",
        "print (listaPrecios)"
      ],
      "execution_count": 3,
      "outputs": [
        {
          "output_type": "stream",
          "text": [
            "[<h2 class=\"ui-search-item__title\">Televisor Tedge 50 Pulgadas Uhd Smart </h2>, <h2 class=\"ui-search-item__title\">Televisor Hyundai 32 Pulgadas Hd - Hyled3241d</h2>, <h2 class=\"ui-search-item__title\">Televisor Hyundai 32 Pulgadas Hd Smart - Hyled3243nim</h2>, <h2 class=\"ui-search-item__title\">Televisor Challenger Led 32t12 T2 Hd </h2>, <h2 class=\"ui-search-item__title\">Televisor Hyundai 40 Pulgadas Fhd Smart - Hyled4021nim</h2>, <h2 class=\"ui-search-item__title\">Televisor Full Hd Smart Tv 2020 Un43t5300</h2>, <h2 class=\"ui-search-item__title\">Televisor Hyundai 50 Pulgadas 4k Smart Diseño Sin Borde</h2>, <h2 class=\"ui-search-item__title\">Tv Led Smart Tv Kalley Hdsfbt 32¨ Hd Usb Hdmi Internet Tdt2</h2>, <h2 class=\"ui-search-item__title\">Tv Led Challenger 32¨ Pulgadas Hd Plano Usb Hdmi Pvr Tdt2 </h2>, <h2 class=\"ui-search-item__title\">Televisor Tedge 58 Pulgadas 4k Uhd Smart </h2>, <h2 class=\"ui-search-item__title\">Televisor Tedge 58 Pulgadas 4k Uhd Smart </h2>, <h2 class=\"ui-search-item__title\">Televisor Tedge 50 Pulgadas Uhd Smart </h2>, <h2 class=\"ui-search-item__title\">Televisor Hyundai 55 Pulgadas 4k Uhd Smart - Hyled5519n4km</h2>, <h2 class=\"ui-search-item__title\">Televisor Caixun 32 Smart Tv Hd Negro</h2>, <h2 class=\"ui-search-item__title\">Tv Samsung 50tu8000 Led 4k Uhd Crystal 50 PLG Voz Magic 2020</h2>, <h2 class=\"ui-search-item__title\">Tv Kaiwi 32  (80 Cm) Led Hd - Básico</h2>, <h2 class=\"ui-search-item__title\">Combo Samsung Smart Tv 50 4k + Barra De Sonido Hwt400</h2>, <h2 class=\"ui-search-item__title\">Televisor Caixun 50 Pulgadas Led 4k Ultra Hd Smart Tv</h2>, <h2 class=\"ui-search-item__title\">Forro Silicona Control Tv Samsung Por Voz Smart 4k Sikaicase</h2>, <h2 class=\"ui-search-item__title\">Tv Led Smart Tv Kalley Fhdsfbt 43 Fhd Usb Hdmi Bluetooth Tdt</h2>, <h2 class=\"ui-search-item__title\">Televisor Hyundai 58 Pulgadas 4k Smart Diseño Sin Borde</h2>, <h2 class=\"ui-search-item__title\">Tv Samsung 58 (147 Cm) Smart 4k Uhd</h2>, <h2 class=\"ui-search-item__title\">Tv LG 28  Pulgadas 70 Cm 28tl525s Led Hd Plano Smart Tv</h2>, <h2 class=\"ui-search-item__title\">Tv Led Smart Tv Kalley Hdsfbt 32¨ Hd Usb Hdmi Internet Tdt2</h2>, <h2 class=\"ui-search-item__title\">Televisor Exclusiv 32 Hd Smart Tv</h2>, <h2 class=\"ui-search-item__title\">Televisor Caixun 24  Hd Basic</h2>, <h2 class=\"ui-search-item__title\">Televisor Samsung 55ru7300 55p Curvo 4k Smarttv 2019</h2>, <h2 class=\"ui-search-item__title\">Televisor Hyundai 43 Pulgadas Fhd Smart - Hyled4319nim</h2>, <h2 class=\"ui-search-item__title\">Televisor LG 32lm630 Led Hd - Active Hdr - Sonido Virtual Su</h2>, <h2 class=\"ui-search-item__title\">Tv Led Smart Tv Kalley Hdsfbt 32¨ Hd Hdmi Usb Internet Tdt2</h2>, <h2 class=\"ui-search-item__title\">Televisor Caixun 24  Hd Basic Con Tdt Envio Gratis</h2>, <h2 class=\"ui-search-item__title\">Combo Samsung Smart Tv 50 4k + Barra De Sonido Hwt400</h2>, <h2 class=\"ui-search-item__title\">Televisor Samsung 55ru7100 55p 2019 Smart Tv 4k Bluetooth</h2>, <h2 class=\"ui-search-item__title\">Televisor 43 PuLG Caixun 4k Smart Tdt </h2>, <h2 class=\"ui-search-item__title\">Tv Samsung 43tu8000 Led 4k Uhd Crystal 43 PLG Voz Magic 2020</h2>, <h2 class=\"ui-search-item__title\">Tv Samsung 58 (147 Cm) Smart 4k Uhd</h2>, <h2 class=\"ui-search-item__title\">Televisor Caixun 43 Pulgadas 4k Uhd Ledcx43p28fsm</h2>, <h2 class=\"ui-search-item__title\">Televisor Samsung 65tu7000 65 PLG 2020 Crystal 4k Bluetooth</h2>, <h2 class=\"ui-search-item__title\">Tv Samsung 55tu8000 Led 4k Uhd Crystal 55 PLG Voz Magic 2020</h2>, <h2 class=\"ui-search-item__title\">Televisor Led Samsung 32t4300 Tdt Smart Tv 32 Pg Modelo 2020</h2>, <h2 class=\"ui-search-item__title\">Televisor Samsung 43 Led Smart Tv Un43t5300 Fhd 2020</h2>, <h2 class=\"ui-search-item__title\">Televisor Samsung 75ru7100 75p 2019 Smart Tv 4k Bluetooth</h2>, <h2 class=\"ui-search-item__title\">Televisor Exclusiv 32  Hd Smart Tv El32p28sm</h2>, <h2 class=\"ui-search-item__title\">Televisor 32  Pulgadas Recco Hd Led </h2>, <h2 class=\"ui-search-item__title\">Televisor Samsung 43 Pulgadas Smartv Full Hd Tdt</h2>, <h2 class=\"ui-search-item__title\">Televisor Hyundai 43 Pulgadas Fhd Smart Diseño Sin Borde</h2>, <h2 class=\"ui-search-item__title\">Televisor LG 43 Led Full Hd Smart Tv Tdt 43lm6300pdb </h2>, <h2 class=\"ui-search-item__title\">Televisor Led Samsung Un32j4300 Tdt Smart Tv 32 Pulgadas</h2>, <h2 class=\"ui-search-item__title\">Televisor Samsung 32  Hd Smart Tv Un32j4290akxzl</h2>, <h2 class=\"ui-search-item__title\">Televisor Samsung Smart 58  Led Uhd 4k Crystal 2020</h2>, <h2 class=\"ui-search-item__title\">Televisor Led Caixun 24 Pulgadas Tdt</h2>, <h2 class=\"ui-search-item__title\">Tv Sankey 24 Pulgadas 110v Y 12 V</h2>, <h2 class=\"ui-search-item__title\">Tv Led Challenger 32¨ Pulgadas Hd Plano Usb Hdmi Pvr Tdt2 </h2>, <h2 class=\"ui-search-item__title\">Televisor Kalley 22'' 55cm Led22fhdf T2</h2>, <h2 class=\"ui-search-item__title\">Televisor Intec Int324iled Smart Led Hd Wifi Garantia 1 Año</h2>, <h2 class=\"ui-search-item__title\">Tv Samsung 43 (110 Cm) Smart Led Crystal 4k Ultra Hd </h2>]\n",
            "[<span class=\"price-tag-fraction\">2.799.900</span>, <span class=\"price-tag-fraction\">1.199.900</span>, <span class=\"price-tag-fraction\">99.992</span>, <span class=\"price-tag-fraction\">469.900</span>, <span class=\"price-tag-fraction\">13.053</span>, <span class=\"price-tag-fraction\">857.000</span>, <span class=\"price-tag-fraction\">619.900</span>, <span class=\"price-tag-fraction\">17.219</span>, <span class=\"price-tag-fraction\">489.900</span>, <span class=\"price-tag-fraction\">13.608</span>, <span class=\"price-tag-fraction\">1.271.285</span>, <span class=\"price-tag-fraction\">899.900</span>, <span class=\"price-tag-fraction\">24.997</span>, <span class=\"price-tag-fraction\">1.159.900</span>, <span class=\"price-tag-fraction\">32.219</span>, <span class=\"price-tag-fraction\">1.928.428</span>, <span class=\"price-tag-fraction\">1.299.900</span>, <span class=\"price-tag-fraction\">36.108</span>, <span class=\"price-tag-fraction\">779.990</span>, <span class=\"price-tag-fraction\">21.666</span>, <span class=\"price-tag-fraction\">629.990</span>, <span class=\"price-tag-fraction\">17.500</span>, <span class=\"price-tag-fraction\">3.399.900</span>, <span class=\"price-tag-fraction\">1.499.000</span>, <span class=\"price-tag-fraction\">41.639</span>, <span class=\"price-tag-fraction\">3.299.900</span>, <span class=\"price-tag-fraction\">1.499.900</span>, <span class=\"price-tag-fraction\">124.992</span>, <span class=\"price-tag-fraction\">2.799.900</span>, <span class=\"price-tag-fraction\">1.199.000</span>, <span class=\"price-tag-fraction\">33.306</span>, <span class=\"price-tag-fraction\">1.499.900</span>, <span class=\"price-tag-fraction\">41.664</span>, <span class=\"price-tag-fraction\">689.900</span>, <span class=\"price-tag-fraction\">609.900</span>, <span class=\"price-tag-fraction\">16.942</span>, <span class=\"price-tag-fraction\">2.999.900</span>, <span class=\"price-tag-fraction\">1.529.900</span>, <span class=\"price-tag-fraction\">42.497</span>, <span class=\"price-tag-fraction\">854.000</span>, <span class=\"price-tag-fraction\">421.000</span>, <span class=\"price-tag-fraction\">11.694</span>, <span class=\"price-tag-fraction\">1.810.000</span>, <span class=\"price-tag-fraction\">150.833</span>, <span class=\"price-tag-fraction\">1.439.900</span>, <span class=\"price-tag-fraction\">1.279.900</span>, <span class=\"price-tag-fraction\">35.553</span>, <span class=\"price-tag-fraction\">29.900</span>, <span class=\"price-tag-fraction\">2.492</span>, <span class=\"price-tag-fraction\">1.159.990</span>, <span class=\"price-tag-fraction\">32.222</span>, <span class=\"price-tag-fraction\">1.599.900</span>, <span class=\"price-tag-fraction\">44.442</span>, <span class=\"price-tag-fraction\">1.770.000</span>, <span class=\"price-tag-fraction\">147.500</span>, <span class=\"price-tag-fraction\">729.900</span>, <span class=\"price-tag-fraction\">20.275</span>, <span class=\"price-tag-fraction\">779.990</span>, <span class=\"price-tag-fraction\">21.666</span>, <span class=\"price-tag-fraction\">589.900</span>, <span class=\"price-tag-fraction\">16.386</span>, <span class=\"price-tag-fraction\">419.900</span>, <span class=\"price-tag-fraction\">359.900</span>, <span class=\"price-tag-fraction\">9.997</span>, <span class=\"price-tag-fraction\">3.299.900</span>, <span class=\"price-tag-fraction\">1.989.900</span>, <span class=\"price-tag-fraction\">55.275</span>, <span class=\"price-tag-fraction\">999.900</span>, <span class=\"price-tag-fraction\">27.775</span>, <span class=\"price-tag-fraction\">1.149.900</span>, <span class=\"price-tag-fraction\">798.000</span>, <span class=\"price-tag-fraction\">66.500</span>, <span class=\"price-tag-fraction\">819.990</span>, <span class=\"price-tag-fraction\">68.332</span>, <span class=\"price-tag-fraction\">380.000</span>, <span class=\"price-tag-fraction\">10.556</span>, <span class=\"price-tag-fraction\">1.810.000</span>, <span class=\"price-tag-fraction\">50.278</span>, <span class=\"price-tag-fraction\">3.299.900</span>, <span class=\"price-tag-fraction\">1.699.900</span>, <span class=\"price-tag-fraction\">47.219</span>, <span class=\"price-tag-fraction\">979.900</span>, <span class=\"price-tag-fraction\">27.219</span>, <span class=\"price-tag-fraction\">2.199.900</span>, <span class=\"price-tag-fraction\">1.279.900</span>, <span class=\"price-tag-fraction\">35.553</span>, <span class=\"price-tag-fraction\">1.809.000</span>, <span class=\"price-tag-fraction\">50.250</span>, <span class=\"price-tag-fraction\">959.900</span>, <span class=\"price-tag-fraction\">26.664</span>, <span class=\"price-tag-fraction\">4.499.900</span>, <span class=\"price-tag-fraction\">2.379.900</span>, <span class=\"price-tag-fraction\">66.108</span>, <span class=\"price-tag-fraction\">2.999.900</span>, <span class=\"price-tag-fraction\">1.739.900</span>, <span class=\"price-tag-fraction\">48.331</span>, <span class=\"price-tag-fraction\">1.299.900</span>, <span class=\"price-tag-fraction\">749.900</span>, <span class=\"price-tag-fraction\">20.831</span>, <span class=\"price-tag-fraction\">1.999.900</span>, <span class=\"price-tag-fraction\">1.179.900</span>, <span class=\"price-tag-fraction\">32.775</span>, <span class=\"price-tag-fraction\">9.999.900</span>, <span class=\"price-tag-fraction\">3.649.900</span>, <span class=\"price-tag-fraction\">101.386</span>, <span class=\"price-tag-fraction\">699.900</span>, <span class=\"price-tag-fraction\">579.900</span>, <span class=\"price-tag-fraction\">16.108</span>, <span class=\"price-tag-fraction\">449.900</span>, <span class=\"price-tag-fraction\">12.497</span>, <span class=\"price-tag-fraction\">1.379.900</span>, <span class=\"price-tag-fraction\">38.331</span>, <span class=\"price-tag-fraction\">1.385.571</span>, <span class=\"price-tag-fraction\">969.900</span>, <span class=\"price-tag-fraction\">26.942</span>, <span class=\"price-tag-fraction\">1.299.900</span>, <span class=\"price-tag-fraction\">36.108</span>, <span class=\"price-tag-fraction\">1.099.999</span>, <span class=\"price-tag-fraction\">749.900</span>, <span class=\"price-tag-fraction\">20.831</span>, <span class=\"price-tag-fraction\">979.900</span>, <span class=\"price-tag-fraction\">27.219</span>, <span class=\"price-tag-fraction\">2.099.900</span>, <span class=\"price-tag-fraction\">58.331</span>, <span class=\"price-tag-fraction\">389.900</span>, <span class=\"price-tag-fraction\">10.831</span>, <span class=\"price-tag-fraction\">515.000</span>, <span class=\"price-tag-fraction\">14.306</span>, <span class=\"price-tag-fraction\">629.990</span>, <span class=\"price-tag-fraction\">17.500</span>, <span class=\"price-tag-fraction\">429.900</span>, <span class=\"price-tag-fraction\">360.326</span>, <span class=\"price-tag-fraction\">10.009</span>, <span class=\"price-tag-fraction\">549.900</span>, <span class=\"price-tag-fraction\">15.275</span>, <span class=\"price-tag-fraction\">1.366.000</span>, <span class=\"price-tag-fraction\">37.944</span>]\n",
            "['Televisor Tedge 50 Pulgadas Uhd Smart ', 'Televisor Hyundai 32 Pulgadas Hd - Hyled3241d', 'Televisor Hyundai 32 Pulgadas Hd Smart - Hyled3243nim', 'Televisor Challenger Led 32t12 T2 Hd ', 'Televisor Hyundai 40 Pulgadas Fhd Smart - Hyled4021nim', 'Televisor Full Hd Smart Tv 2020 Un43t5300', 'Televisor Hyundai 50 Pulgadas 4k Smart Diseño Sin Borde', 'Tv Led Smart Tv Kalley Hdsfbt 32¨ Hd Usb Hdmi Internet Tdt2', 'Tv Led Challenger 32¨ Pulgadas Hd Plano Usb Hdmi Pvr Tdt2 ', 'Televisor Tedge 58 Pulgadas 4k Uhd Smart ', 'Televisor Tedge 58 Pulgadas 4k Uhd Smart ', 'Televisor Tedge 50 Pulgadas Uhd Smart ', 'Televisor Hyundai 55 Pulgadas 4k Uhd Smart - Hyled5519n4km', 'Televisor Caixun 32 Smart Tv Hd Negro', 'Tv Samsung 50tu8000 Led 4k Uhd Crystal 50 PLG Voz Magic 2020', 'Tv Kaiwi 32  (80 Cm) Led Hd - Básico', 'Combo Samsung Smart Tv 50 4k + Barra De Sonido Hwt400', 'Televisor Caixun 50 Pulgadas Led 4k Ultra Hd Smart Tv', 'Forro Silicona Control Tv Samsung Por Voz Smart 4k Sikaicase', 'Tv Led Smart Tv Kalley Fhdsfbt 43 Fhd Usb Hdmi Bluetooth Tdt', 'Televisor Hyundai 58 Pulgadas 4k Smart Diseño Sin Borde', 'Tv Samsung 58 (147 Cm) Smart 4k Uhd', 'Tv LG 28  Pulgadas 70 Cm 28tl525s Led Hd Plano Smart Tv', 'Tv Led Smart Tv Kalley Hdsfbt 32¨ Hd Usb Hdmi Internet Tdt2', 'Televisor Exclusiv 32 Hd Smart Tv', 'Televisor Caixun 24  Hd Basic', 'Televisor Samsung 55ru7300 55p Curvo 4k Smarttv 2019', 'Televisor Hyundai 43 Pulgadas Fhd Smart - Hyled4319nim', 'Televisor LG 32lm630 Led Hd - Active Hdr - Sonido Virtual Su', 'Tv Led Smart Tv Kalley Hdsfbt 32¨ Hd Hdmi Usb Internet Tdt2', 'Televisor Caixun 24  Hd Basic Con Tdt Envio Gratis', 'Combo Samsung Smart Tv 50 4k + Barra De Sonido Hwt400', 'Televisor Samsung 55ru7100 55p 2019 Smart Tv 4k Bluetooth', 'Televisor 43 PuLG Caixun 4k Smart Tdt ', 'Tv Samsung 43tu8000 Led 4k Uhd Crystal 43 PLG Voz Magic 2020', 'Tv Samsung 58 (147 Cm) Smart 4k Uhd', 'Televisor Caixun 43 Pulgadas 4k Uhd Ledcx43p28fsm', 'Televisor Samsung 65tu7000 65 PLG 2020 Crystal 4k Bluetooth', 'Tv Samsung 55tu8000 Led 4k Uhd Crystal 55 PLG Voz Magic 2020', 'Televisor Led Samsung 32t4300 Tdt Smart Tv 32 Pg Modelo 2020', 'Televisor Samsung 43 Led Smart Tv Un43t5300 Fhd 2020', 'Televisor Samsung 75ru7100 75p 2019 Smart Tv 4k Bluetooth', 'Televisor Exclusiv 32  Hd Smart Tv El32p28sm', 'Televisor 32  Pulgadas Recco Hd Led ', 'Televisor Samsung 43 Pulgadas Smartv Full Hd Tdt', 'Televisor Hyundai 43 Pulgadas Fhd Smart Diseño Sin Borde', 'Televisor LG 43 Led Full Hd Smart Tv Tdt 43lm6300pdb ', 'Televisor Led Samsung Un32j4300 Tdt Smart Tv 32 Pulgadas', 'Televisor Samsung 32  Hd Smart Tv Un32j4290akxzl', 'Televisor Samsung Smart 58  Led Uhd 4k Crystal 2020', 'Televisor Led Caixun 24 Pulgadas Tdt', 'Tv Sankey 24 Pulgadas 110v Y 12 V', 'Tv Led Challenger 32¨ Pulgadas Hd Plano Usb Hdmi Pvr Tdt2 ', \"Televisor Kalley 22'' 55cm Led22fhdf T2\", 'Televisor Intec Int324iled Smart Led Hd Wifi Garantia 1 Año', 'Tv Samsung 43 (110 Cm) Smart Led Crystal 4k Ultra Hd ']\n",
            "['Televisor Tedge 50 Pulgadas Uhd Smart ', 'Televisor Hyundai 32 Pulgadas Hd - Hyled3241d', 'Televisor Hyundai 32 Pulgadas Hd Smart - Hyled3243nim', 'Televisor Challenger Led 32t12 T2 Hd ', 'Televisor Hyundai 40 Pulgadas Fhd Smart - Hyled4021nim', 'Televisor Full Hd Smart Tv 2020 Un43t5300', 'Televisor Hyundai 50 Pulgadas 4k Smart Diseño Sin Borde', 'Tv Led Smart Tv Kalley Hdsfbt 32¨ Hd Usb Hdmi Internet Tdt2', 'Tv Led Challenger 32¨ Pulgadas Hd Plano Usb Hdmi Pvr Tdt2 ', 'Televisor Tedge 58 Pulgadas 4k Uhd Smart ', 'Televisor Tedge 58 Pulgadas 4k Uhd Smart ', 'Televisor Tedge 50 Pulgadas Uhd Smart ', 'Televisor Hyundai 55 Pulgadas 4k Uhd Smart - Hyled5519n4km', 'Televisor Caixun 32 Smart Tv Hd Negro', 'Tv Samsung 50tu8000 Led 4k Uhd Crystal 50 PLG Voz Magic 2020', 'Tv Kaiwi 32  (80 Cm) Led Hd - Básico', 'Combo Samsung Smart Tv 50 4k + Barra De Sonido Hwt400', 'Televisor Caixun 50 Pulgadas Led 4k Ultra Hd Smart Tv', 'Forro Silicona Control Tv Samsung Por Voz Smart 4k Sikaicase', 'Tv Led Smart Tv Kalley Fhdsfbt 43 Fhd Usb Hdmi Bluetooth Tdt', 'Televisor Hyundai 58 Pulgadas 4k Smart Diseño Sin Borde', 'Tv Samsung 58 (147 Cm) Smart 4k Uhd', 'Tv LG 28  Pulgadas 70 Cm 28tl525s Led Hd Plano Smart Tv', 'Tv Led Smart Tv Kalley Hdsfbt 32¨ Hd Usb Hdmi Internet Tdt2', 'Televisor Exclusiv 32 Hd Smart Tv', 'Televisor Caixun 24  Hd Basic', 'Televisor Samsung 55ru7300 55p Curvo 4k Smarttv 2019', 'Televisor Hyundai 43 Pulgadas Fhd Smart - Hyled4319nim', 'Televisor LG 32lm630 Led Hd - Active Hdr - Sonido Virtual Su', 'Tv Led Smart Tv Kalley Hdsfbt 32¨ Hd Hdmi Usb Internet Tdt2', 'Televisor Caixun 24  Hd Basic Con Tdt Envio Gratis', 'Combo Samsung Smart Tv 50 4k + Barra De Sonido Hwt400', 'Televisor Samsung 55ru7100 55p 2019 Smart Tv 4k Bluetooth', 'Televisor 43 PuLG Caixun 4k Smart Tdt ', 'Tv Samsung 43tu8000 Led 4k Uhd Crystal 43 PLG Voz Magic 2020', 'Tv Samsung 58 (147 Cm) Smart 4k Uhd', 'Televisor Caixun 43 Pulgadas 4k Uhd Ledcx43p28fsm', 'Televisor Samsung 65tu7000 65 PLG 2020 Crystal 4k Bluetooth', 'Tv Samsung 55tu8000 Led 4k Uhd Crystal 55 PLG Voz Magic 2020', 'Televisor Led Samsung 32t4300 Tdt Smart Tv 32 Pg Modelo 2020', 'Televisor Samsung 43 Led Smart Tv Un43t5300 Fhd 2020', 'Televisor Samsung 75ru7100 75p 2019 Smart Tv 4k Bluetooth', 'Televisor Exclusiv 32  Hd Smart Tv El32p28sm', 'Televisor 32  Pulgadas Recco Hd Led ', 'Televisor Samsung 43 Pulgadas Smartv Full Hd Tdt', 'Televisor Hyundai 43 Pulgadas Fhd Smart Diseño Sin Borde', 'Televisor LG 43 Led Full Hd Smart Tv Tdt 43lm6300pdb ', 'Televisor Led Samsung Un32j4300 Tdt Smart Tv 32 Pulgadas', 'Televisor Samsung 32  Hd Smart Tv Un32j4290akxzl', 'Televisor Samsung Smart 58  Led Uhd 4k Crystal 2020', 'Televisor Led Caixun 24 Pulgadas Tdt', 'Tv Sankey 24 Pulgadas 110v Y 12 V', 'Tv Led Challenger 32¨ Pulgadas Hd Plano Usb Hdmi Pvr Tdt2 ', \"Televisor Kalley 22'' 55cm Led22fhdf T2\", 'Televisor Intec Int324iled Smart Led Hd Wifi Garantia 1 Año', 'Tv Samsung 43 (110 Cm) Smart Led Crystal 4k Ultra Hd ']\n",
            "['2.799.900', '1.199.900', '99.992', '469.900', '13.053', '857.000', '619.900', '17.219', '489.900', '13.608', '1.271.285', '899.900', '24.997', '1.159.900', '32.219', '1.928.428', '1.299.900', '36.108', '779.990', '21.666', '629.990', '17.500', '3.399.900', '1.499.000', '41.639', '3.299.900', '1.499.900', '124.992', '2.799.900', '1.199.000', '33.306', '1.499.900', '41.664', '689.900', '609.900', '16.942', '2.999.900', '1.529.900', '42.497', '854.000', '421.000', '11.694', '1.810.000', '150.833', '1.439.900', '1.279.900', '35.553', '29.900', '2.492', '1.159.990', '32.222', '1.599.900', '44.442', '1.770.000', '147.500', '729.900', '20.275', '779.990', '21.666', '589.900', '16.386', '419.900', '359.900', '9.997', '3.299.900', '1.989.900', '55.275', '999.900', '27.775', '1.149.900', '798.000', '66.500', '819.990', '68.332', '380.000', '10.556', '1.810.000', '50.278', '3.299.900', '1.699.900', '47.219', '979.900', '27.219', '2.199.900', '1.279.900', '35.553', '1.809.000', '50.250', '959.900', '26.664', '4.499.900', '2.379.900', '66.108', '2.999.900', '1.739.900', '48.331', '1.299.900', '749.900', '20.831', '1.999.900', '1.179.900', '32.775', '9.999.900', '3.649.900', '101.386', '699.900', '579.900', '16.108', '449.900', '12.497', '1.379.900', '38.331', '1.385.571', '969.900', '26.942', '1.299.900', '36.108', '1.099.999', '749.900', '20.831', '979.900', '27.219', '2.099.900', '58.331', '389.900', '10.831', '515.000', '14.306', '629.990', '17.500', '429.900', '360.326', '10.009', '549.900', '15.275', '1.366.000', '37.944']\n"
          ],
          "name": "stdout"
        }
      ]
    },
    {
      "cell_type": "code",
      "metadata": {
        "id": "ZCb7bHkSjlra",
        "colab_type": "code",
        "colab": {
          "base_uri": "https://localhost:8080/",
          "height": 67
        },
        "outputId": "12a28250-6f26-4c5a-b831-0dcd48dde59e"
      },
      "source": [
        "print(len(nombreTelevisores))\n",
        "print(len(listaPrecios))\n",
        "listaPrecios= listaPrecios[:50]\n",
        "print(len(listaPrecios))"
      ],
      "execution_count": 5,
      "outputs": [
        {
          "output_type": "stream",
          "text": [
            "56\n",
            "137\n",
            "50\n"
          ],
          "name": "stdout"
        }
      ]
    },
    {
      "cell_type": "code",
      "metadata": {
        "id": "OTUHlQGwk-Sh",
        "colab_type": "code",
        "colab": {
          "base_uri": "https://localhost:8080/",
          "height": 370
        },
        "outputId": "a4204170-99c2-4909-e1bd-a1b45aa344f5"
      },
      "source": [
        "import pandas as pd\n",
        "dictTelevisores = {}\n",
        "dictTelevisores ['Titulos'] = nombreTelevisores\n",
        "print (len (nombreTelevisores), len (listaPrecios))\n",
        "dictTelevisores ['Precios'] = listaPrecios\n",
        "televisoresDataFrame = pd.DataFrame(dictTelevisores)\n",
        "televisoresDataFrame.to_csv('Televisores.csv', index=False)"
      ],
      "execution_count": 23,
      "outputs": [
        {
          "output_type": "stream",
          "text": [
            "56 50\n"
          ],
          "name": "stdout"
        },
        {
          "output_type": "error",
          "ename": "ValueError",
          "evalue": "ignored",
          "traceback": [
            "\u001b[0;31m---------------------------------------------------------------------------\u001b[0m",
            "\u001b[0;31mValueError\u001b[0m                                Traceback (most recent call last)",
            "\u001b[0;32m<ipython-input-23-351f2c8c5c2f>\u001b[0m in \u001b[0;36m<module>\u001b[0;34m()\u001b[0m\n\u001b[1;32m      4\u001b[0m \u001b[0mprint\u001b[0m \u001b[0;34m(\u001b[0m\u001b[0mlen\u001b[0m \u001b[0;34m(\u001b[0m\u001b[0mnombreTelevisores\u001b[0m\u001b[0;34m)\u001b[0m\u001b[0;34m,\u001b[0m \u001b[0mlen\u001b[0m \u001b[0;34m(\u001b[0m\u001b[0mlistaPrecios\u001b[0m\u001b[0;34m)\u001b[0m\u001b[0;34m)\u001b[0m\u001b[0;34m\u001b[0m\u001b[0;34m\u001b[0m\u001b[0m\n\u001b[1;32m      5\u001b[0m \u001b[0mdictTelevisores\u001b[0m \u001b[0;34m[\u001b[0m\u001b[0;34m'Precios'\u001b[0m\u001b[0;34m]\u001b[0m \u001b[0;34m=\u001b[0m \u001b[0mlistaPrecios\u001b[0m\u001b[0;34m\u001b[0m\u001b[0;34m\u001b[0m\u001b[0m\n\u001b[0;32m----> 6\u001b[0;31m \u001b[0mtelevisoresDataFrame\u001b[0m \u001b[0;34m=\u001b[0m \u001b[0mpd\u001b[0m\u001b[0;34m.\u001b[0m\u001b[0mDataFrame\u001b[0m\u001b[0;34m(\u001b[0m\u001b[0mdictTelevisores\u001b[0m\u001b[0;34m)\u001b[0m\u001b[0;34m\u001b[0m\u001b[0;34m\u001b[0m\u001b[0m\n\u001b[0m\u001b[1;32m      7\u001b[0m \u001b[0mtelevisoresDataFrame\u001b[0m\u001b[0;34m.\u001b[0m\u001b[0mto_csv\u001b[0m\u001b[0;34m(\u001b[0m\u001b[0;34m'Televisores.csv'\u001b[0m\u001b[0;34m,\u001b[0m \u001b[0mindex\u001b[0m\u001b[0;34m=\u001b[0m\u001b[0;32mFalse\u001b[0m\u001b[0;34m)\u001b[0m\u001b[0;34m\u001b[0m\u001b[0;34m\u001b[0m\u001b[0m\n",
            "\u001b[0;32m/usr/local/lib/python3.6/dist-packages/pandas/core/frame.py\u001b[0m in \u001b[0;36m__init__\u001b[0;34m(self, data, index, columns, dtype, copy)\u001b[0m\n\u001b[1;32m    433\u001b[0m             )\n\u001b[1;32m    434\u001b[0m         \u001b[0;32melif\u001b[0m \u001b[0misinstance\u001b[0m\u001b[0;34m(\u001b[0m\u001b[0mdata\u001b[0m\u001b[0;34m,\u001b[0m \u001b[0mdict\u001b[0m\u001b[0;34m)\u001b[0m\u001b[0;34m:\u001b[0m\u001b[0;34m\u001b[0m\u001b[0;34m\u001b[0m\u001b[0m\n\u001b[0;32m--> 435\u001b[0;31m             \u001b[0mmgr\u001b[0m \u001b[0;34m=\u001b[0m \u001b[0minit_dict\u001b[0m\u001b[0;34m(\u001b[0m\u001b[0mdata\u001b[0m\u001b[0;34m,\u001b[0m \u001b[0mindex\u001b[0m\u001b[0;34m,\u001b[0m \u001b[0mcolumns\u001b[0m\u001b[0;34m,\u001b[0m \u001b[0mdtype\u001b[0m\u001b[0;34m=\u001b[0m\u001b[0mdtype\u001b[0m\u001b[0;34m)\u001b[0m\u001b[0;34m\u001b[0m\u001b[0;34m\u001b[0m\u001b[0m\n\u001b[0m\u001b[1;32m    436\u001b[0m         \u001b[0;32melif\u001b[0m \u001b[0misinstance\u001b[0m\u001b[0;34m(\u001b[0m\u001b[0mdata\u001b[0m\u001b[0;34m,\u001b[0m \u001b[0mma\u001b[0m\u001b[0;34m.\u001b[0m\u001b[0mMaskedArray\u001b[0m\u001b[0;34m)\u001b[0m\u001b[0;34m:\u001b[0m\u001b[0;34m\u001b[0m\u001b[0;34m\u001b[0m\u001b[0m\n\u001b[1;32m    437\u001b[0m             \u001b[0;32mimport\u001b[0m \u001b[0mnumpy\u001b[0m\u001b[0;34m.\u001b[0m\u001b[0mma\u001b[0m\u001b[0;34m.\u001b[0m\u001b[0mmrecords\u001b[0m \u001b[0;32mas\u001b[0m \u001b[0mmrecords\u001b[0m\u001b[0;34m\u001b[0m\u001b[0;34m\u001b[0m\u001b[0m\n",
            "\u001b[0;32m/usr/local/lib/python3.6/dist-packages/pandas/core/internals/construction.py\u001b[0m in \u001b[0;36minit_dict\u001b[0;34m(data, index, columns, dtype)\u001b[0m\n\u001b[1;32m    252\u001b[0m             \u001b[0marr\u001b[0m \u001b[0;32mif\u001b[0m \u001b[0;32mnot\u001b[0m \u001b[0mis_datetime64tz_dtype\u001b[0m\u001b[0;34m(\u001b[0m\u001b[0marr\u001b[0m\u001b[0;34m)\u001b[0m \u001b[0;32melse\u001b[0m \u001b[0marr\u001b[0m\u001b[0;34m.\u001b[0m\u001b[0mcopy\u001b[0m\u001b[0;34m(\u001b[0m\u001b[0;34m)\u001b[0m \u001b[0;32mfor\u001b[0m \u001b[0marr\u001b[0m \u001b[0;32min\u001b[0m \u001b[0marrays\u001b[0m\u001b[0;34m\u001b[0m\u001b[0;34m\u001b[0m\u001b[0m\n\u001b[1;32m    253\u001b[0m         ]\n\u001b[0;32m--> 254\u001b[0;31m     \u001b[0;32mreturn\u001b[0m \u001b[0marrays_to_mgr\u001b[0m\u001b[0;34m(\u001b[0m\u001b[0marrays\u001b[0m\u001b[0;34m,\u001b[0m \u001b[0mdata_names\u001b[0m\u001b[0;34m,\u001b[0m \u001b[0mindex\u001b[0m\u001b[0;34m,\u001b[0m \u001b[0mcolumns\u001b[0m\u001b[0;34m,\u001b[0m \u001b[0mdtype\u001b[0m\u001b[0;34m=\u001b[0m\u001b[0mdtype\u001b[0m\u001b[0;34m)\u001b[0m\u001b[0;34m\u001b[0m\u001b[0;34m\u001b[0m\u001b[0m\n\u001b[0m\u001b[1;32m    255\u001b[0m \u001b[0;34m\u001b[0m\u001b[0m\n\u001b[1;32m    256\u001b[0m \u001b[0;34m\u001b[0m\u001b[0m\n",
            "\u001b[0;32m/usr/local/lib/python3.6/dist-packages/pandas/core/internals/construction.py\u001b[0m in \u001b[0;36marrays_to_mgr\u001b[0;34m(arrays, arr_names, index, columns, dtype)\u001b[0m\n\u001b[1;32m     62\u001b[0m     \u001b[0;31m# figure out the index, if necessary\u001b[0m\u001b[0;34m\u001b[0m\u001b[0;34m\u001b[0m\u001b[0;34m\u001b[0m\u001b[0m\n\u001b[1;32m     63\u001b[0m     \u001b[0;32mif\u001b[0m \u001b[0mindex\u001b[0m \u001b[0;32mis\u001b[0m \u001b[0;32mNone\u001b[0m\u001b[0;34m:\u001b[0m\u001b[0;34m\u001b[0m\u001b[0;34m\u001b[0m\u001b[0m\n\u001b[0;32m---> 64\u001b[0;31m         \u001b[0mindex\u001b[0m \u001b[0;34m=\u001b[0m \u001b[0mextract_index\u001b[0m\u001b[0;34m(\u001b[0m\u001b[0marrays\u001b[0m\u001b[0;34m)\u001b[0m\u001b[0;34m\u001b[0m\u001b[0;34m\u001b[0m\u001b[0m\n\u001b[0m\u001b[1;32m     65\u001b[0m     \u001b[0;32melse\u001b[0m\u001b[0;34m:\u001b[0m\u001b[0;34m\u001b[0m\u001b[0;34m\u001b[0m\u001b[0m\n\u001b[1;32m     66\u001b[0m         \u001b[0mindex\u001b[0m \u001b[0;34m=\u001b[0m \u001b[0mensure_index\u001b[0m\u001b[0;34m(\u001b[0m\u001b[0mindex\u001b[0m\u001b[0;34m)\u001b[0m\u001b[0;34m\u001b[0m\u001b[0;34m\u001b[0m\u001b[0m\n",
            "\u001b[0;32m/usr/local/lib/python3.6/dist-packages/pandas/core/internals/construction.py\u001b[0m in \u001b[0;36mextract_index\u001b[0;34m(data)\u001b[0m\n\u001b[1;32m    363\u001b[0m             \u001b[0mlengths\u001b[0m \u001b[0;34m=\u001b[0m \u001b[0mlist\u001b[0m\u001b[0;34m(\u001b[0m\u001b[0mset\u001b[0m\u001b[0;34m(\u001b[0m\u001b[0mraw_lengths\u001b[0m\u001b[0;34m)\u001b[0m\u001b[0;34m)\u001b[0m\u001b[0;34m\u001b[0m\u001b[0;34m\u001b[0m\u001b[0m\n\u001b[1;32m    364\u001b[0m             \u001b[0;32mif\u001b[0m \u001b[0mlen\u001b[0m\u001b[0;34m(\u001b[0m\u001b[0mlengths\u001b[0m\u001b[0;34m)\u001b[0m \u001b[0;34m>\u001b[0m \u001b[0;36m1\u001b[0m\u001b[0;34m:\u001b[0m\u001b[0;34m\u001b[0m\u001b[0;34m\u001b[0m\u001b[0m\n\u001b[0;32m--> 365\u001b[0;31m                 \u001b[0;32mraise\u001b[0m \u001b[0mValueError\u001b[0m\u001b[0;34m(\u001b[0m\u001b[0;34m\"arrays must all be same length\"\u001b[0m\u001b[0;34m)\u001b[0m\u001b[0;34m\u001b[0m\u001b[0;34m\u001b[0m\u001b[0m\n\u001b[0m\u001b[1;32m    366\u001b[0m \u001b[0;34m\u001b[0m\u001b[0m\n\u001b[1;32m    367\u001b[0m             \u001b[0;32mif\u001b[0m \u001b[0mhave_dicts\u001b[0m\u001b[0;34m:\u001b[0m\u001b[0;34m\u001b[0m\u001b[0;34m\u001b[0m\u001b[0m\n",
            "\u001b[0;31mValueError\u001b[0m: arrays must all be same length"
          ]
        }
      ]
    },
    {
      "cell_type": "code",
      "metadata": {
        "id": "a6yy8YFLmIGt",
        "colab_type": "code",
        "colab": {
          "base_uri": "https://localhost:8080/",
          "height": 266
        },
        "outputId": "663bcad6-fac8-4de5-aa6e-b848fae10fa4"
      },
      "source": [
        "funcionAgregarTelevisor = lambda elemento : 'televisor : ' + elemento\n",
        "titulosTelevisores = list (map(funcionAgregarTelevisor,nombreTelevisores))\n",
        "print (titulosTelevisores)\n",
        "titulosTelevisores2 = funcionListaDatos (funcionAgregarTelevisor, nombreTelevisores)\n",
        "print (titulosTelevisores2)\n",
        "dictTelevisores = {}\n",
        "dictTelevisores['Titulos'] = titulosTelevisores2\n",
        "dictTelevisores ['Precios'] = listaPrecios\n",
        "televisoresDF = pd.DataFrame(dictTelevisores)\n",
        "televisoresDF.to_csv('televisoresMod.csv', index= False)"
      ],
      "execution_count": 15,
      "outputs": [
        {
          "output_type": "stream",
          "text": [
            "['televisor : Televisor Tedge 50 Pulgadas Uhd Smart ', 'televisor : Televisor Hyundai 32 Pulgadas Hd - Hyled3241d', 'televisor : Televisor Hyundai 32 Pulgadas Hd Smart - Hyled3243nim', 'televisor : Televisor Challenger Led 32t12 T2 Hd ', 'televisor : Televisor Hyundai 40 Pulgadas Fhd Smart - Hyled4021nim', 'televisor : Televisor Full Hd Smart Tv 2020 Un43t5300', 'televisor : Televisor Hyundai 50 Pulgadas 4k Smart Diseño Sin Borde', 'televisor : Tv Led Smart Tv Kalley Hdsfbt 32¨ Hd Usb Hdmi Internet Tdt2', 'televisor : Tv Led Challenger 32¨ Pulgadas Hd Plano Usb Hdmi Pvr Tdt2 ', 'televisor : Televisor Tedge 58 Pulgadas 4k Uhd Smart ', 'televisor : Televisor Tedge 58 Pulgadas 4k Uhd Smart ', 'televisor : Televisor Tedge 50 Pulgadas Uhd Smart ', 'televisor : Televisor Hyundai 55 Pulgadas 4k Uhd Smart - Hyled5519n4km', 'televisor : Televisor Caixun 32 Smart Tv Hd Negro', 'televisor : Tv Samsung 50tu8000 Led 4k Uhd Crystal 50 PLG Voz Magic 2020', 'televisor : Tv Kaiwi 32  (80 Cm) Led Hd - Básico', 'televisor : Combo Samsung Smart Tv 50 4k + Barra De Sonido Hwt400', 'televisor : Televisor Caixun 50 Pulgadas Led 4k Ultra Hd Smart Tv', 'televisor : Forro Silicona Control Tv Samsung Por Voz Smart 4k Sikaicase', 'televisor : Tv Led Smart Tv Kalley Fhdsfbt 43 Fhd Usb Hdmi Bluetooth Tdt', 'televisor : Televisor Hyundai 58 Pulgadas 4k Smart Diseño Sin Borde', 'televisor : Tv Samsung 58 (147 Cm) Smart 4k Uhd', 'televisor : Tv LG 28  Pulgadas 70 Cm 28tl525s Led Hd Plano Smart Tv', 'televisor : Tv Led Smart Tv Kalley Hdsfbt 32¨ Hd Usb Hdmi Internet Tdt2', 'televisor : Televisor Exclusiv 32 Hd Smart Tv', 'televisor : Televisor Caixun 24  Hd Basic', 'televisor : Televisor Samsung 55ru7300 55p Curvo 4k Smarttv 2019', 'televisor : Televisor Hyundai 43 Pulgadas Fhd Smart - Hyled4319nim', 'televisor : Televisor LG 32lm630 Led Hd - Active Hdr - Sonido Virtual Su', 'televisor : Tv Led Smart Tv Kalley Hdsfbt 32¨ Hd Hdmi Usb Internet Tdt2', 'televisor : Televisor Caixun 24  Hd Basic Con Tdt Envio Gratis', 'televisor : Combo Samsung Smart Tv 50 4k + Barra De Sonido Hwt400', 'televisor : Televisor Samsung 55ru7100 55p 2019 Smart Tv 4k Bluetooth', 'televisor : Televisor 43 PuLG Caixun 4k Smart Tdt ', 'televisor : Tv Samsung 43tu8000 Led 4k Uhd Crystal 43 PLG Voz Magic 2020', 'televisor : Tv Samsung 58 (147 Cm) Smart 4k Uhd', 'televisor : Televisor Caixun 43 Pulgadas 4k Uhd Ledcx43p28fsm', 'televisor : Televisor Samsung 65tu7000 65 PLG 2020 Crystal 4k Bluetooth', 'televisor : Tv Samsung 55tu8000 Led 4k Uhd Crystal 55 PLG Voz Magic 2020', 'televisor : Televisor Led Samsung 32t4300 Tdt Smart Tv 32 Pg Modelo 2020', 'televisor : Televisor Samsung 43 Led Smart Tv Un43t5300 Fhd 2020', 'televisor : Televisor Samsung 75ru7100 75p 2019 Smart Tv 4k Bluetooth', 'televisor : Televisor Exclusiv 32  Hd Smart Tv El32p28sm', 'televisor : Televisor 32  Pulgadas Recco Hd Led ', 'televisor : Televisor Samsung 43 Pulgadas Smartv Full Hd Tdt', 'televisor : Televisor Hyundai 43 Pulgadas Fhd Smart Diseño Sin Borde', 'televisor : Televisor LG 43 Led Full Hd Smart Tv Tdt 43lm6300pdb ', 'televisor : Televisor Led Samsung Un32j4300 Tdt Smart Tv 32 Pulgadas', 'televisor : Televisor Samsung 32  Hd Smart Tv Un32j4290akxzl', 'televisor : Televisor Samsung Smart 58  Led Uhd 4k Crystal 2020', 'televisor : Televisor Led Caixun 24 Pulgadas Tdt', 'televisor : Tv Sankey 24 Pulgadas 110v Y 12 V', 'televisor : Tv Led Challenger 32¨ Pulgadas Hd Plano Usb Hdmi Pvr Tdt2 ', \"televisor : Televisor Kalley 22'' 55cm Led22fhdf T2\", 'televisor : Televisor Intec Int324iled Smart Led Hd Wifi Garantia 1 Año', 'televisor : Tv Samsung 43 (110 Cm) Smart Led Crystal 4k Ultra Hd ']\n",
            "['televisor : Televisor Tedge 50 Pulgadas Uhd Smart ', 'televisor : Televisor Hyundai 32 Pulgadas Hd - Hyled3241d', 'televisor : Televisor Hyundai 32 Pulgadas Hd Smart - Hyled3243nim', 'televisor : Televisor Challenger Led 32t12 T2 Hd ', 'televisor : Televisor Hyundai 40 Pulgadas Fhd Smart - Hyled4021nim', 'televisor : Televisor Full Hd Smart Tv 2020 Un43t5300', 'televisor : Televisor Hyundai 50 Pulgadas 4k Smart Diseño Sin Borde', 'televisor : Tv Led Smart Tv Kalley Hdsfbt 32¨ Hd Usb Hdmi Internet Tdt2', 'televisor : Tv Led Challenger 32¨ Pulgadas Hd Plano Usb Hdmi Pvr Tdt2 ', 'televisor : Televisor Tedge 58 Pulgadas 4k Uhd Smart ', 'televisor : Televisor Tedge 58 Pulgadas 4k Uhd Smart ', 'televisor : Televisor Tedge 50 Pulgadas Uhd Smart ', 'televisor : Televisor Hyundai 55 Pulgadas 4k Uhd Smart - Hyled5519n4km', 'televisor : Televisor Caixun 32 Smart Tv Hd Negro', 'televisor : Tv Samsung 50tu8000 Led 4k Uhd Crystal 50 PLG Voz Magic 2020', 'televisor : Tv Kaiwi 32  (80 Cm) Led Hd - Básico', 'televisor : Combo Samsung Smart Tv 50 4k + Barra De Sonido Hwt400', 'televisor : Televisor Caixun 50 Pulgadas Led 4k Ultra Hd Smart Tv', 'televisor : Forro Silicona Control Tv Samsung Por Voz Smart 4k Sikaicase', 'televisor : Tv Led Smart Tv Kalley Fhdsfbt 43 Fhd Usb Hdmi Bluetooth Tdt', 'televisor : Televisor Hyundai 58 Pulgadas 4k Smart Diseño Sin Borde', 'televisor : Tv Samsung 58 (147 Cm) Smart 4k Uhd', 'televisor : Tv LG 28  Pulgadas 70 Cm 28tl525s Led Hd Plano Smart Tv', 'televisor : Tv Led Smart Tv Kalley Hdsfbt 32¨ Hd Usb Hdmi Internet Tdt2', 'televisor : Televisor Exclusiv 32 Hd Smart Tv', 'televisor : Televisor Caixun 24  Hd Basic', 'televisor : Televisor Samsung 55ru7300 55p Curvo 4k Smarttv 2019', 'televisor : Televisor Hyundai 43 Pulgadas Fhd Smart - Hyled4319nim', 'televisor : Televisor LG 32lm630 Led Hd - Active Hdr - Sonido Virtual Su', 'televisor : Tv Led Smart Tv Kalley Hdsfbt 32¨ Hd Hdmi Usb Internet Tdt2', 'televisor : Televisor Caixun 24  Hd Basic Con Tdt Envio Gratis', 'televisor : Combo Samsung Smart Tv 50 4k + Barra De Sonido Hwt400', 'televisor : Televisor Samsung 55ru7100 55p 2019 Smart Tv 4k Bluetooth', 'televisor : Televisor 43 PuLG Caixun 4k Smart Tdt ', 'televisor : Tv Samsung 43tu8000 Led 4k Uhd Crystal 43 PLG Voz Magic 2020', 'televisor : Tv Samsung 58 (147 Cm) Smart 4k Uhd', 'televisor : Televisor Caixun 43 Pulgadas 4k Uhd Ledcx43p28fsm', 'televisor : Televisor Samsung 65tu7000 65 PLG 2020 Crystal 4k Bluetooth', 'televisor : Tv Samsung 55tu8000 Led 4k Uhd Crystal 55 PLG Voz Magic 2020', 'televisor : Televisor Led Samsung 32t4300 Tdt Smart Tv 32 Pg Modelo 2020', 'televisor : Televisor Samsung 43 Led Smart Tv Un43t5300 Fhd 2020', 'televisor : Televisor Samsung 75ru7100 75p 2019 Smart Tv 4k Bluetooth', 'televisor : Televisor Exclusiv 32  Hd Smart Tv El32p28sm', 'televisor : Televisor 32  Pulgadas Recco Hd Led ', 'televisor : Televisor Samsung 43 Pulgadas Smartv Full Hd Tdt', 'televisor : Televisor Hyundai 43 Pulgadas Fhd Smart Diseño Sin Borde', 'televisor : Televisor LG 43 Led Full Hd Smart Tv Tdt 43lm6300pdb ', 'televisor : Televisor Led Samsung Un32j4300 Tdt Smart Tv 32 Pulgadas', 'televisor : Televisor Samsung 32  Hd Smart Tv Un32j4290akxzl', 'televisor : Televisor Samsung Smart 58  Led Uhd 4k Crystal 2020', 'televisor : Televisor Led Caixun 24 Pulgadas Tdt', 'televisor : Tv Sankey 24 Pulgadas 110v Y 12 V', 'televisor : Tv Led Challenger 32¨ Pulgadas Hd Plano Usb Hdmi Pvr Tdt2 ', \"televisor : Televisor Kalley 22'' 55cm Led22fhdf T2\", 'televisor : Televisor Intec Int324iled Smart Led Hd Wifi Garantia 1 Año', 'televisor : Tv Samsung 43 (110 Cm) Smart Led Crystal 4k Ultra Hd ']\n"
          ],
          "name": "stdout"
        },
        {
          "output_type": "error",
          "ename": "NameError",
          "evalue": "ignored",
          "traceback": [
            "\u001b[0;31m---------------------------------------------------------------------------\u001b[0m",
            "\u001b[0;31mNameError\u001b[0m                                 Traceback (most recent call last)",
            "\u001b[0;32m<ipython-input-15-29ddb0947ed3>\u001b[0m in \u001b[0;36m<module>\u001b[0;34m()\u001b[0m\n\u001b[1;32m      7\u001b[0m \u001b[0mdictTelevisores\u001b[0m\u001b[0;34m[\u001b[0m\u001b[0;34m'Titulos'\u001b[0m\u001b[0;34m]\u001b[0m \u001b[0;34m=\u001b[0m \u001b[0mtitulosTelevisores2\u001b[0m\u001b[0;34m\u001b[0m\u001b[0;34m\u001b[0m\u001b[0m\n\u001b[1;32m      8\u001b[0m \u001b[0mdictTelevisores\u001b[0m \u001b[0;34m[\u001b[0m\u001b[0;34m'Precios'\u001b[0m\u001b[0;34m]\u001b[0m \u001b[0;34m=\u001b[0m \u001b[0mlistaPrecios\u001b[0m\u001b[0;34m\u001b[0m\u001b[0;34m\u001b[0m\u001b[0m\n\u001b[0;32m----> 9\u001b[0;31m \u001b[0mtelevisoresDF\u001b[0m \u001b[0;34m=\u001b[0m \u001b[0mpd\u001b[0m\u001b[0;34m.\u001b[0m\u001b[0mDataFrame\u001b[0m\u001b[0;34m(\u001b[0m\u001b[0mdicttelevisores\u001b[0m\u001b[0;34m)\u001b[0m\u001b[0;34m\u001b[0m\u001b[0;34m\u001b[0m\u001b[0m\n\u001b[0m\u001b[1;32m     10\u001b[0m \u001b[0mtelevisoresDF\u001b[0m\u001b[0;34m.\u001b[0m\u001b[0mto_csv\u001b[0m\u001b[0;34m(\u001b[0m\u001b[0;34m'televisoresMod.csv'\u001b[0m\u001b[0;34m,\u001b[0m \u001b[0mindex\u001b[0m\u001b[0;34m=\u001b[0m \u001b[0;32mFalse\u001b[0m\u001b[0;34m)\u001b[0m\u001b[0;34m\u001b[0m\u001b[0;34m\u001b[0m\u001b[0m\n",
            "\u001b[0;31mNameError\u001b[0m: name 'dicttelevisores' is not defined"
          ]
        }
      ]
    },
    {
      "cell_type": "code",
      "metadata": {
        "id": "_P5CvgMknB29",
        "colab_type": "code",
        "colab": {
          "base_uri": "https://localhost:8080/",
          "height": 266
        },
        "outputId": "700a8fe7-2ed8-4a30-8ba9-f07f251ebe95"
      },
      "source": [
        "Hyundai = lambda elemento : 'Hyundai' in elemento \n",
        "Challenger = lambda elemento : 'Challenger' in elemento\n",
        "\n",
        "listaHyundai = list (filter(Hyundai, titulosTelevisores))\n",
        "listaChallenger = list (filter(Challenger, titulosTelevisores))\n",
        "print (listaHyundai)\n",
        "print (listaChallenger)\n",
        "\n",
        "nombresCortos = lambda elemento : len (elemento) < 80\n",
        "listaHyundaiFiltrados = list (filter (nombresCortos, listaHyundai))\n",
        "print (listaHyundaiFiltrados)\n",
        "\n",
        "HyundaiSerie = pd.Series(listaHyundai)\n",
        "HyundaiSerie.to_csv('Televisores Hyundai.csv',  index_label='Hyundai')\n",
        "ChallengerSerie = pd.Series(listaChallenger)\n",
        "challengerSerie.to_csv('Televisores Challenger.csv',  index_label='Challenger')"
      ],
      "execution_count": 12,
      "outputs": [
        {
          "output_type": "stream",
          "text": [
            "['televisor : Televisor Hyundai 32 Pulgadas Hd - Hyled3241d', 'televisor : Televisor Hyundai 32 Pulgadas Hd Smart - Hyled3243nim', 'televisor : Televisor Hyundai 40 Pulgadas Fhd Smart - Hyled4021nim', 'televisor : Televisor Hyundai 50 Pulgadas 4k Smart Diseño Sin Borde', 'televisor : Televisor Hyundai 55 Pulgadas 4k Uhd Smart - Hyled5519n4km', 'televisor : Televisor Hyundai 58 Pulgadas 4k Smart Diseño Sin Borde', 'televisor : Televisor Hyundai 43 Pulgadas Fhd Smart - Hyled4319nim', 'televisor : Televisor Hyundai 43 Pulgadas Fhd Smart Diseño Sin Borde']\n",
            "['televisor : Televisor Challenger Led 32t12 T2 Hd ', 'televisor : Tv Led Challenger 32¨ Pulgadas Hd Plano Usb Hdmi Pvr Tdt2 ', 'televisor : Tv Led Challenger 32¨ Pulgadas Hd Plano Usb Hdmi Pvr Tdt2 ']\n",
            "['televisor : Televisor Hyundai 32 Pulgadas Hd - Hyled3241d', 'televisor : Televisor Hyundai 32 Pulgadas Hd Smart - Hyled3243nim', 'televisor : Televisor Hyundai 40 Pulgadas Fhd Smart - Hyled4021nim', 'televisor : Televisor Hyundai 50 Pulgadas 4k Smart Diseño Sin Borde', 'televisor : Televisor Hyundai 55 Pulgadas 4k Uhd Smart - Hyled5519n4km', 'televisor : Televisor Hyundai 58 Pulgadas 4k Smart Diseño Sin Borde', 'televisor : Televisor Hyundai 43 Pulgadas Fhd Smart - Hyled4319nim', 'televisor : Televisor Hyundai 43 Pulgadas Fhd Smart Diseño Sin Borde']\n"
          ],
          "name": "stdout"
        },
        {
          "output_type": "error",
          "ename": "NameError",
          "evalue": "ignored",
          "traceback": [
            "\u001b[0;31m---------------------------------------------------------------------------\u001b[0m",
            "\u001b[0;31mNameError\u001b[0m                                 Traceback (most recent call last)",
            "\u001b[0;32m<ipython-input-12-10e65fd1d674>\u001b[0m in \u001b[0;36m<module>\u001b[0;34m()\u001b[0m\n\u001b[1;32m     14\u001b[0m \u001b[0mHyundaiSerie\u001b[0m\u001b[0;34m.\u001b[0m\u001b[0mto_csv\u001b[0m\u001b[0;34m(\u001b[0m\u001b[0;34m'Televisores Hyundai.csv'\u001b[0m\u001b[0;34m,\u001b[0m  \u001b[0mindex_label\u001b[0m\u001b[0;34m=\u001b[0m\u001b[0;34m'Hyundai'\u001b[0m\u001b[0;34m)\u001b[0m\u001b[0;34m\u001b[0m\u001b[0;34m\u001b[0m\u001b[0m\n\u001b[1;32m     15\u001b[0m \u001b[0mChallengerSerie\u001b[0m \u001b[0;34m=\u001b[0m \u001b[0mpd\u001b[0m\u001b[0;34m.\u001b[0m\u001b[0mSeries\u001b[0m\u001b[0;34m(\u001b[0m\u001b[0mlistaChallenger\u001b[0m\u001b[0;34m)\u001b[0m\u001b[0;34m\u001b[0m\u001b[0;34m\u001b[0m\u001b[0m\n\u001b[0;32m---> 16\u001b[0;31m \u001b[0mchallengerSerie\u001b[0m\u001b[0;34m.\u001b[0m\u001b[0mto_csv\u001b[0m\u001b[0;34m(\u001b[0m\u001b[0;34m'Televisores Challenger.csv'\u001b[0m\u001b[0;34m,\u001b[0m  \u001b[0mindex_label\u001b[0m\u001b[0;34m=\u001b[0m\u001b[0;34m'Challenger'\u001b[0m\u001b[0;34m)\u001b[0m\u001b[0;34m\u001b[0m\u001b[0;34m\u001b[0m\u001b[0m\n\u001b[0m",
            "\u001b[0;31mNameError\u001b[0m: name 'challengerSerie' is not defined"
          ]
        }
      ]
    },
    {
      "cell_type": "code",
      "metadata": {
        "id": "LtwXguSNomNY",
        "colab_type": "code",
        "colab": {
          "base_uri": "https://localhost:8080/",
          "height": 70
        },
        "outputId": "488247bb-01b0-44fa-870f-33444a315e47"
      },
      "source": [
        "from functools import reduce\n",
        "lista= titulosTelevisores\n",
        "largo= lambda elemento : len(elemento)\n",
        "listalargos= list(map(largo,lista))\n",
        "print(listalargos)\n",
        "sumador=lambda elemento=0,acumulador=0:acumulador+elemento\n",
        "promedio = reduce (sumador,listalargos)/len(titulosTelevisores)\n",
        "print(promedio)"
      ],
      "execution_count": 13,
      "outputs": [
        {
          "output_type": "stream",
          "text": [
            "[50, 57, 65, 49, 66, 53, 67, 71, 70, 53, 53, 50, 70, 49, 72, 48, 65, 65, 72, 72, 67, 47, 67, 71, 45, 41, 64, 66, 72, 71, 62, 65, 69, 50, 72, 47, 61, 71, 72, 72, 64, 69, 56, 48, 60, 68, 65, 68, 60, 63, 48, 45, 70, 51, 71, 65]\n",
            "61.42857142857143\n"
          ],
          "name": "stdout"
        }
      ]
    },
    {
      "cell_type": "code",
      "metadata": {
        "id": "ctGKhBXMo0Vj",
        "colab_type": "code",
        "colab": {}
      },
      "source": [
        "televisoresDF"
      ],
      "execution_count": null,
      "outputs": []
    },
    {
      "cell_type": "code",
      "metadata": {
        "id": "PD_f41zusF4G",
        "colab_type": "code",
        "colab": {
          "base_uri": "https://localhost:8080/",
          "height": 54
        },
        "outputId": "86f22a73-5cb6-4e0d-9428-2856e40db999"
      },
      "source": [
        "tamañoPrecio  = lambda precio : len (precio)\n",
        "ListaCostos= list(map(tamañoPrecio,listaPrecios))\n",
        "print(ListaCostos)"
      ],
      "execution_count": 24,
      "outputs": [
        {
          "output_type": "stream",
          "text": [
            "[9, 9, 6, 7, 6, 7, 7, 6, 7, 6, 9, 7, 6, 9, 6, 9, 9, 6, 7, 6, 7, 6, 9, 9, 6, 9, 9, 7, 9, 9, 6, 9, 6, 7, 7, 6, 9, 9, 6, 7, 7, 6, 9, 7, 9, 9, 6, 6, 5, 9]\n"
          ],
          "name": "stdout"
        }
      ]
    },
    {
      "cell_type": "code",
      "metadata": {
        "colab_type": "code",
        "id": "tDAZxCResN8_",
        "colab": {}
      },
      "source": [
        "televisoresDF"
      ],
      "execution_count": null,
      "outputs": []
    }
  ]
}