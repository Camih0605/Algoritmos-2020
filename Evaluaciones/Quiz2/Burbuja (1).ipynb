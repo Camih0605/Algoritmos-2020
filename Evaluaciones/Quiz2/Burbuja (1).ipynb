{
  "nbformat": 4,
  "nbformat_minor": 0,
  "metadata": {
    "colab": {
      "name": "Burbuja.ipynb",
      "provenance": []
    },
    "kernelspec": {
      "name": "python3",
      "display_name": "Python 3"
    }
  },
  "cells": [
    {
      "cell_type": "code",
      "metadata": {
        "id": "P8_SIN0HHcoL",
        "colab_type": "code",
        "colab": {}
      },
      "source": [
        "def ordenamiento_burbuja(lista):\n",
        "    size = len (lista)\n",
        "    for i in range (size):\n",
        "        for j in range (0, size-i -1):\n",
        "            if lista [j]> lista[j+1]:\n",
        "                lista[j],lista[j+1] = lista[j+1],lista[j]\n",
        "    return lista\n",
        "\n",
        "def ordenamiento_por_insercion(lista):\n",
        "    for indice in range(1, len(lista)):\n",
        "        valor_actual = lista[indice]\n",
        "        posicion_actual = indice\n",
        "        while posicion_actual > 0 and lista[posicion_actual - 1] > valor_actual:\n",
        "            lista[posicion_actual] = lista[posicion_actual - 1]\n",
        "            posicion_actual -= 1\n",
        "        lista[posicion_actual] = valor_actual\n",
        "    return lista\n",
        "\n",
        "def ord_por_mezcla(lista):\n",
        "    if len(lista) > 1:\n",
        "        medio = len(lista) // 2\n",
        "        izquierda = lista[:medio]\n",
        "        derecha = lista[medio:]\n",
        "        izquierda = ord_por_mezcla(izquierda)\n",
        "        derecha = ord_por_mezcla(derecha)\n",
        "        i = 0\n",
        "        j = 0\n",
        "        k = 0\n",
        "\n",
        "        while i< len(izquierda) and j < len(derecha): \n",
        "            if izquierda[i] < derecha[j]:\n",
        "                lista[k] = izquierda[i]\n",
        "                i += 1\n",
        "            else:\n",
        "                lista[k] = derecha[j]\n",
        "                j += 1\n",
        "            k+= 1\n",
        "        while i < len(izquierda):\n",
        "            lista[k] = izquierda[i]\n",
        "            i+=1\n",
        "            k += 1\n",
        "        while j < len(derecha):\n",
        "            lista[k] = derecha[j]\n",
        "            j += 1\n",
        "            k += 1\n",
        "    return lista"
      ],
      "execution_count": 1,
      "outputs": []
    },
    {
      "cell_type": "code",
      "metadata": {
        "id": "8zekaGiUHhjo",
        "colab_type": "code",
        "colab": {}
      },
      "source": [
        "size_list= int (input(\"Ingrese tamaño de la lista : \"))\n",
        "lista = [random.randint(300,1230) for i in range(size_list)]\n",
        "\n",
        "lista_desordenada = lista\n",
        "lista_desordenada_2 = lista\n",
        "lista_desordenada_3 = lista\n",
        "inicio = time.time()\n",
        "burbuja.ordenamiento_burbuja(lista)\n",
        "final_burbuja = time.time()-inicio\n",
        "\n",
        "inicio = time.time()\n",
        "insercion.ordenamiento_por_insercion(lista_desordenada)\n",
        "final_insercion = time.time()-inicio\n",
        "\n",
        "\n",
        "inicio = time.time()\n",
        "mezcla.ord_por_mezcla(lista_desordenada_2)\n",
        "final_mezcla = time.time()-inicio\n",
        "\n",
        "print(f\"el tiempo fina de borbuja es {final_burbuja} y el de insercion {final_insercion} el tiempo final de mezcla {final_mezcla} \")"
      ],
      "execution_count": null,
      "outputs": []
    }
  ]
}